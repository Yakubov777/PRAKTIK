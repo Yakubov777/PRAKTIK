{
  "nbformat": 4,
  "nbformat_minor": 0,
  "metadata": {
    "colab": {
      "provenance": []
    },
    "kernelspec": {
      "name": "python3",
      "display_name": "Python 3"
    },
    "language_info": {
      "name": "python"
    }
  },
  "cells": [
    {
      "cell_type": "markdown",
      "source": [
        "# Якубов ПМ21-6"
      ],
      "metadata": {
        "id": "8n3_DHlUPql7"
      }
    },
    {
      "cell_type": "code",
      "execution_count": 6,
      "metadata": {
        "colab": {
          "base_uri": "https://localhost:8080/"
        },
        "id": "qQiyoyFILxdZ",
        "outputId": "e1e94e84-ec24-427f-cf28-0535e9d71406"
      },
      "outputs": [
        {
          "output_type": "stream",
          "name": "stdout",
          "text": [
            "https://mars.nasa.gov/msl-raw-images/msss/03527/mcam/3527ML1023110101404487I01_DXXX.jpg\n",
            "https://mars.nasa.gov/msl-raw-images/msss/03527/mcam/3527ML1023120051404497I01_DXXX.jpg\n",
            "https://mars.nasa.gov/msl-raw-images/msss/03527/mcam/3527ML1023130131404511I01_DXXX.jpg\n",
            "https://mars.nasa.gov/msl-raw-images/msss/03527/mcam/3527ML1023130191404517I01_DXXX.jpg\n",
            "https://mars.nasa.gov/msl-raw-images/msss/03527/mcam/3527MR1023170110904996D01_DXXX.jpg\n",
            "https://mars.nasa.gov/msl-raw-images/msss/03527/mcam/3527ML1023130171404515I01_DXXX.jpg\n",
            "https://mars.nasa.gov/msl-raw-images/proj/msl/redops/ods/surface/sol/03527/opgs/edr/ncam/NLB_710596223EDR_S0953152NCAM00593M_.JPG\n",
            "https://mars.nasa.gov/msl-raw-images/msss/03527/mcam/3527MR1023130121004955I01_DXXX.jpg\n",
            "https://mars.nasa.gov/msl-raw-images/msss/03527/mcam/3527MR1023170091004994I01_DXXX.jpg\n",
            "https://mars.nasa.gov/msl-raw-images/msss/03527/mcam/3527ML1023190001404545I01_DXXX.jpg\n",
            "https://mars.nasa.gov/msl-raw-images/msss/03527/mcam/3527MR1023110141004935I01_DXXX.jpg\n",
            "https://mars.nasa.gov/msl-raw-images/msss/03527/mcam/3527ML1023160021404525C00_DXXX.jpg\n",
            "https://mars.nasa.gov/msl-raw-images/msss/03527/mcam/3527MR1023220040905005I01_DXXX.jpg\n",
            "https://mars.nasa.gov/msl-raw-images/msss/03527/mcam/3527MR1023130011004944I01_DXXX.jpg\n",
            "https://mars.nasa.gov/msl-raw-images/proj/msl/redops/ods/surface/sol/03527/opgs/edr/ccam/CR0_710598073EDR_F0953152CCAM05525M_.JPG\n",
            "https://mars.nasa.gov/msl-raw-images/proj/msl/redops/ods/surface/sol/03527/soas/rdr/ccam/CR0_710598716PRC_F0953152CCAM05525L1.PNG\n",
            "https://mars.nasa.gov/msl-raw-images/msss/03527/mcam/3527MR1023160191004990I01_DXXX.jpg\n",
            "https://mars.nasa.gov/msl-raw-images/msss/03527/mcam/3527ML1023160061404529C00_DXXX.jpg\n",
            "https://mars.nasa.gov/msl-raw-images/msss/03527/mcam/3527MR1023220030905004C00_DXXX.jpg\n",
            "https://mars.nasa.gov/msl-raw-images/proj/msl/redops/ods/surface/sol/03527/opgs/edr/ccam/CR0_710598519EDR_F0953152CCAM05525M_.JPG\n",
            "https://mars.nasa.gov/msl-raw-images/msss/03527/mcam/3527MR1023160161004987I01_DXXX.jpg\n",
            "https://mars.nasa.gov/msl-raw-images/msss/03527/mcam/3527MR1023160071004978C00_DXXX.jpg\n",
            "https://mars.nasa.gov/msl-raw-images/msss/03527/mcam/3527MR1023170100904995I01_DXXX.jpg\n",
            "https://mars.nasa.gov/msl-raw-images/msss/03527/mcam/3527ML1023110041404481I01_DXXX.jpg\n",
            "https://mars.nasa.gov/msl-raw-images/msss/03527/mcam/3527ML1023200001404553I01_DXXX.jpg\n",
            "https://mars.nasa.gov/msl-raw-images/msss/03527/mcam/3527MR1023160131004984I01_DXXX.jpg\n",
            "https://mars.nasa.gov/msl-raw-images/msss/03527/mcam/3527ML1023220011404566I01_DXXX.jpg\n",
            "https://mars.nasa.gov/msl-raw-images/msss/03527/mcam/3527ML1023200021404555I01_DXXX.jpg\n",
            "https://mars.nasa.gov/msl-raw-images/msss/03527/mcam/3527ML1023190051404550C00_DXXX.jpg\n",
            "https://mars.nasa.gov/msl-raw-images/msss/03527/mcam/3527ML1023170001404538D01_DXXX.jpg\n"
          ]
        }
      ],
      "source": [
        "mport requests\n",
        "import random\n",
        "\n",
        "url = \"https://api.nasa.gov/mars-photos/api/v1/rovers/curiosity/photos\"\n",
        "params = {\n",
        "    \"earth_date\": \"2022-07-08\",\n",
        "    \"api_key\": \"MbNWQfHAsg9gatULkp04nACdeqPBrJqihYNQSEWo\"\n",
        "}\n",
        "\n",
        "response = requests.get(url, params=params)\n",
        "photos = response.json()[\"photos\"]\n",
        "random_photos = random.sample(photos, 30)\n",
        "\n",
        "for photo in random_photos:\n",
        "    print(photo[\"img_src\"])"
      ]
    },
    {
      "cell_type": "code",
      "source": [],
      "metadata": {
        "id": "iB4TN8WiMRRd"
      },
      "execution_count": null,
      "outputs": []
    }
  ]
}